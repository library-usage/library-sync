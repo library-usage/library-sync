{
 "cells": [
  {
   "cell_type": "code",
   "execution_count": 2,
   "metadata": {},
   "outputs": [],
   "source": [
    "import requests\n",
    "import pandas as pd\n",
    "import altair as alt"
   ]
  },
  {
   "cell_type": "markdown",
   "metadata": {},
   "source": [
    "## Setup API"
   ]
  },
  {
   "cell_type": "code",
   "execution_count": 3,
   "metadata": {},
   "outputs": [],
   "source": [
    "class Libraries:\n",
    "    def __init__(self, api_file_path='./local/api.txt'):\n",
    "        \n",
    "        self.api_file_path = api_file_path\n",
    "        \n",
    "        self.api_key = None\n",
    "        self.payload = None\n",
    "        self.url = None\n",
    "        self.r  = None\n",
    "        self.json = None\n",
    "        self.json_flat = None\n",
    "        \n",
    "        self.load_api_key()\n",
    "        \n",
    "        return\n",
    "    \n",
    "    def load_api_key(self):\n",
    "        with open(self.api_file_path, 'r') as file:\n",
    "            self.api_key = file.read()\n",
    "        return\n",
    "    \n",
    "    def create_payload(self, paramenters=None):\n",
    "        self.payload = dict()\n",
    "        self.payload.update({'api_key': self.api_key})\n",
    "        return\n",
    "    \n",
    "    def get_response(self):\n",
    "        self.r = requests.get(self.url, params=self.payload)\n",
    "        return\n",
    "    \n",
    "    def get_package(self, repository='Pypi', package='requests'):\n",
    "        self.url = 'https://libraries.io/api/{}/{}'.format(repository, package)\n",
    "        self.get_response()\n",
    "        self.json = self.r.json()\n",
    "        self.json_flat = self.r.json()\n",
    "        del self.json_flat['versions']\n",
    "        del self.json_flat['normalized_licenses']\n",
    "        del self.json_flat['keywords']\n",
    "        del self.json_flat['latest_stable_release']\n",
    "        \n",
    "        return self.json_flat\n",
    "    \n",
    "lib = Libraries()\n",
    "data = lib.get_package(repository='Pypi', package='numpy')\n"
   ]
  },
  {
   "cell_type": "markdown",
   "metadata": {},
   "source": [
    "# Create csv of data from packages"
   ]
  },
  {
   "cell_type": "code",
   "execution_count": 4,
   "metadata": {},
   "outputs": [],
   "source": [
    "packages = [\n",
    "    ['Pypi', 'numpy'],\n",
    "    ['Pypi', 'requests'],\n",
    "    ['Pypi', 'plotly'],\n",
    "    ['Pypi', 'scipy'],\n",
    "    ['Pypi', 'altair']\n",
    "]\n",
    "lib = Libraries()\n",
    "\n",
    "def make_dataframe(packages, lib):\n",
    "    package_dict = dict()\n",
    "    i = 0\n",
    "    for package in packages:\n",
    "        package_dict[i] = lib.get_package(repository=package[0], package=package[1])\n",
    "        i =i+1\n",
    "    return pd.DataFrame.from_dict(package_dict, orient='index').reindex()\n",
    "        \n",
    "df =make_dataframe(packages, lib)\n",
    "df.to_csv('package-data.csv')"
   ]
  },
  {
   "cell_type": "markdown",
   "metadata": {},
   "source": [
    "# Create vega-lite visualization using csv"
   ]
  },
  {
   "cell_type": "code",
   "execution_count": 12,
   "metadata": {},
   "outputs": [
    {
     "data": {
      "text/html": [
       "\n",
       "<div id=\"altair-viz-06de6be2e74f40079a40b9025e68822c\"></div>\n",
       "<script type=\"text/javascript\">\n",
       "  (function(spec, embedOpt){\n",
       "    let outputDiv = document.currentScript.previousElementSibling;\n",
       "    if (outputDiv.id !== \"altair-viz-06de6be2e74f40079a40b9025e68822c\") {\n",
       "      outputDiv = document.getElementById(\"altair-viz-06de6be2e74f40079a40b9025e68822c\");\n",
       "    }\n",
       "    const paths = {\n",
       "      \"vega\": \"https://cdn.jsdelivr.net/npm//vega@5?noext\",\n",
       "      \"vega-lib\": \"https://cdn.jsdelivr.net/npm//vega-lib?noext\",\n",
       "      \"vega-lite\": \"https://cdn.jsdelivr.net/npm//vega-lite@4.8.1?noext\",\n",
       "      \"vega-embed\": \"https://cdn.jsdelivr.net/npm//vega-embed@6?noext\",\n",
       "    };\n",
       "\n",
       "    function loadScript(lib) {\n",
       "      return new Promise(function(resolve, reject) {\n",
       "        var s = document.createElement('script');\n",
       "        s.src = paths[lib];\n",
       "        s.async = true;\n",
       "        s.onload = () => resolve(paths[lib]);\n",
       "        s.onerror = () => reject(`Error loading script: ${paths[lib]}`);\n",
       "        document.getElementsByTagName(\"head\")[0].appendChild(s);\n",
       "      });\n",
       "    }\n",
       "\n",
       "    function showError(err) {\n",
       "      outputDiv.innerHTML = `<div class=\"error\" style=\"color:red;\">${err}</div>`;\n",
       "      throw err;\n",
       "    }\n",
       "\n",
       "    function displayChart(vegaEmbed) {\n",
       "      vegaEmbed(outputDiv, spec, embedOpt)\n",
       "        .catch(err => showError(`Javascript Error: ${err.message}<br>This usually means there's a typo in your chart specification. See the javascript console for the full traceback.`));\n",
       "    }\n",
       "\n",
       "    if(typeof define === \"function\" && define.amd) {\n",
       "      requirejs.config({paths});\n",
       "      require([\"vega-embed\"], displayChart, err => showError(`Error loading script: ${err.message}`));\n",
       "    } else if (typeof vegaEmbed === \"function\") {\n",
       "      displayChart(vegaEmbed);\n",
       "    } else {\n",
       "      loadScript(\"vega\")\n",
       "        .then(() => loadScript(\"vega-lite\"))\n",
       "        .then(() => loadScript(\"vega-embed\"))\n",
       "        .catch(showError)\n",
       "        .then(() => displayChart(vegaEmbed));\n",
       "    }\n",
       "  })({\"config\": {\"view\": {\"continuousWidth\": 400, \"continuousHeight\": 300}}, \"data\": {\"url\": \"https://raw.githubusercontent.com/library-usage/library-sync/master/package-data.csv\"}, \"mark\": \"line\", \"encoding\": {\"x\": {\"type\": \"nominal\", \"field\": \"name\"}, \"y\": {\"type\": \"ordinal\", \"field\": \"forks\"}}, \"height\": 100, \"selection\": {\"selector006\": {\"type\": \"interval\", \"bind\": \"scales\", \"encodings\": [\"x\", \"y\"]}}, \"width\": 500, \"$schema\": \"https://vega.github.io/schema/vega-lite/v4.8.1.json\"}, {\"mode\": \"vega-lite\"});\n",
       "</script>"
      ],
      "text/plain": [
       "alt.Chart(...)"
      ]
     },
     "execution_count": 12,
     "metadata": {},
     "output_type": "execute_result"
    }
   ],
   "source": [
    "url = 'https://raw.githubusercontent.com/library-usage/library-sync/master/package-data.csv'\n",
    "\n",
    "chart = alt.Chart(url, width=500, height=100).mark_line().encode(\n",
    "    x='name:N',\n",
    "    y='forks:O'\n",
    ").interactive()\n",
    "chart"
   ]
  },
  {
   "cell_type": "code",
   "execution_count": 13,
   "metadata": {},
   "outputs": [],
   "source": [
    "chart.save('stars.json')"
   ]
  }
 ],
 "metadata": {
  "kernelspec": {
   "display_name": "Python 3",
   "language": "python",
   "name": "python3"
  },
  "language_info": {
   "codemirror_mode": {
    "name": "ipython",
    "version": 3
   },
   "file_extension": ".py",
   "mimetype": "text/x-python",
   "name": "python",
   "nbconvert_exporter": "python",
   "pygments_lexer": "ipython3",
   "version": "3.8.4"
  }
 },
 "nbformat": 4,
 "nbformat_minor": 4
}
